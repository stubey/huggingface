{
 "cells": [
  {
   "cell_type": "markdown",
   "metadata": {},
   "source": [
    "# परिचय"
   ]
  },
  {
   "cell_type": "markdown",
   "metadata": {},
   "source": [
    "Install the Transformers, Datasets, and Evaluate libraries to run this notebook."
   ]
  },
  {
   "cell_type": "code",
   "execution_count": null,
   "metadata": {},
   "outputs": [],
   "source": [
    "!pip install datasets evaluate transformers[sentencepiece]"
   ]
  },
  {
   "cell_type": "code",
   "execution_count": null,
   "metadata": {},
   "outputs": [],
   "source": [
    "import transformers"
   ]
  }
 ],
 "metadata": {
  "colab": {
   "name": "परिचय",
   "provenance": []
  }
 },
 "nbformat": 4,
 "nbformat_minor": 4
}
